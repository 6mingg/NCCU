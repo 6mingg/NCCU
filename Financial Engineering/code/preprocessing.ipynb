{
 "cells": [
  {
   "cell_type": "code",
   "execution_count": 4,
   "metadata": {},
   "outputs": [],
   "source": [
    "import pandas as pd\n",
    "import numpy as np\n",
    "import datetime\n",
    "from sklearn.preprocessing import StandardScaler\n",
    "import talib"
   ]
  },
  {
   "cell_type": "code",
   "execution_count": 230,
   "metadata": {},
   "outputs": [],
   "source": [
    "def stochastic_K(close, high, low, n):\n",
    "    return [np.nan]*n+[(close[i] - min(low[i-n+1:i+1]))/(max(high[i-n+1:i+1]-min(low[i-n+1:i+1])))*100 for i in range(10, len(close))]\n",
    "\n",
    "def AD_Osc(high, low, close):\n",
    "    return (high[1:]-close[:-1]) / ((high[1:]-low[1:])+0.000001)\n",
    "\n",
    "def tech_indi_1(df):\n",
    "    n = 10\n",
    "    open = df['open']\n",
    "    high = df['high']\n",
    "    close = df['close']\n",
    "    low = df['low']\n",
    "\n",
    "    df['SMA'] = talib.SMA(close, n)\n",
    "    df['WMA'] = talib.WMA(close, n)\n",
    "    df['MOM'] = talib.MOM(close, n)\n",
    "    df['K'] = stochastic_K(close, high, low, n)\n",
    "    df['D'] = talib.SMA(df['K'], n)\n",
    "    df['RSI'] = talib.RSI(close, n)\n",
    "    df['MACD'], macdsignal, macdhist = talib.MACD(close, 12, 26, n)\n",
    "    df['WILLR'] = talib.WILLR(high, low, close, n)\n",
    "    df['AD'] = AD_Osc(high, low, close)\n",
    "    df['CCI'] = talib.CCI(high, low, close, n)\n",
    "\n",
    "    return df.dropna()\n",
    "\n",
    "def tech_indi_2(df):\n",
    "    df_2 = df.copy()\n",
    "\n",
    "    df_2['SMA'] = list(map(lambda x: '+1' if x[0] > x[1] else '-1', zip(df['close'],df['SMA'])))\n",
    "    df_2['WMA'] = list(map(lambda x: '+1' if x[0] > x[1] else '-1', zip(df['close'],df['WMA'])))\n",
    "    df_2['MOM'] = list(map(lambda x: '+1' if x >= 0 else '-1', df['MOM']))\n",
    "    df_2['RSI'] =  [np.nan] + list(map(lambda x: '+1' if x[0] <= 30 else ('-1' if x[0] >= 70 else ('+1' if x[0] > x[1] else '-1')), zip(df['RSI'][1:], df['RSI'][:-1])))\n",
    "    df_2['CCI'] =  [np.nan] + list(map(lambda x: '+1' if x[0] >= 200 else ('-1' if x[0] <= -200 else ('+1' if x[0] > x[1] else '-1')), zip(df['CCI'][1:], df['CCI'][:-1])))\n",
    "\n",
    "    def trans(col):\n",
    "        return [np.nan] + list(map(lambda x: '+1' if x[0] >= x[1] else '-1', zip(df[col][1:], df[col][:-1])))\n",
    "    df_2['K'] = trans('K')\n",
    "    df_2['D'] = trans('D')\n",
    "    df_2['MACD'] = trans('MACD')\n",
    "    df_2['WILLR'] = trans('WILLR')\n",
    "    df_2['AD'] = trans('AD')\n",
    "\n",
    "    return df_2.iloc[:, 5:].dropna()"
   ]
  },
  {
   "cell_type": "code",
   "execution_count": 237,
   "metadata": {},
   "outputs": [],
   "source": [
    "df_raw = pd.read_csv('data.csv', index_col = 0, header=1)\n",
    "df_raw.dropna(inplace=True)\n",
    "df.index = pd.to_datetime(df.index)\n",
    "col_name = ['open', 'high', 'low', 'close', 'vol']\n",
    "df_TX = df_raw.iloc[:,:5].set_axis(col_name, axis = 1)\n",
    "df_0050 = df_raw.iloc[:,5:10].set_axis(col_name, axis = 1)\n",
    "df_2330 = df_raw.iloc[:,10:15].set_axis(col_name, axis = 1)\n",
    "df_2881 = df_raw.iloc[:,15:20].set_axis(col_name, axis = 1)"
   ]
  },
  {
   "cell_type": "code",
   "execution_count": null,
   "metadata": {},
   "outputs": [],
   "source": [
    "indi = ['SMA', 'WMA', 'MOM', 'K', 'D', 'RSI', 'MACD', 'WILLR', 'AD', 'CCI']\n",
    "dfs = [df_TX, df_0050, df_2330, df_2881]\n",
    "\n",
    "[df_TX, df_0050, df_2330, df_2881] = list(map(tech_indi_1, dfs))\n",
    "\n",
    "dfs = [df_TX, df_0050, df_2330, df_2881]\n",
    "data_2= [df_TX_2, df_0050_2, df_2330_2, df_2881_2] = list(map(tech_indi_2, dfs))\n",
    "\n",
    "dfs = [df_TX_1, df_0050_1, df_2330_1, df_2881_1] = list(map(pd.DataFrame, list(map(StandardScaler().fit_transform, dfs))))\n",
    "dfs = [df_TX_1, df_0050_1, df_2330_1, df_2881_1] = list(map(lambda x: x.iloc[:, 5:], dfs))\n",
    "data_1 = []\n",
    "for d in dfs:\n",
    "    d = d.set_axis(df_TX.index, axis = 0)\n",
    "    data_1.append(d.set_axis(indi, axis = 1))"
   ]
  },
  {
   "cell_type": "markdown",
   "metadata": {},
   "source": [
    "data_1 -> method 1  \n",
    "data_2 -> method 2\n",
    "\n",
    "index: { 0 :  'TX',  1 : '0050',  2 : '2330',  3 : '2881'}    "
   ]
  },
  {
   "cell_type": "code",
   "execution_count": 243,
   "metadata": {},
   "outputs": [],
   "source": [
    "index = { 0 :  'TX',  1 : '0050',  2 : '2330',  3 : '2881'}    \n",
    "for i, d in enumerate(data_1):\n",
    "    d.to_csv('method_1_'+index[i]+'.csv', index_label='Date', columns=indi)\n",
    "\n",
    "for i, d in enumerate(data_2):\n",
    "    d.to_csv('method_2_'+index[i]+'.csv', index_label='Date', columns=indi)"
   ]
  }
 ],
 "metadata": {
  "kernelspec": {
   "display_name": "Python 3",
   "language": "python",
   "name": "python3"
  },
  "language_info": {
   "codemirror_mode": {
    "name": "ipython",
    "version": 3
   },
   "file_extension": ".py",
   "mimetype": "text/x-python",
   "name": "python",
   "nbconvert_exporter": "python",
   "pygments_lexer": "ipython3",
   "version": "3.10.11"
  }
 },
 "nbformat": 4,
 "nbformat_minor": 2
}
