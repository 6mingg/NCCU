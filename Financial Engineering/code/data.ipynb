{
 "cells": [
  {
   "cell_type": "code",
   "execution_count": 1,
   "metadata": {},
   "outputs": [],
   "source": [
    "from tabulate import tabulate\n",
    "import pandas as pd\n",
    "import os"
   ]
  },
  {
   "cell_type": "code",
   "execution_count": 2,
   "metadata": {},
   "outputs": [],
   "source": [
    "data_output_par = '../data/output/parameters'\n",
    "data_output_off = '../data/output/official'\n",
    "data_output_off_ra = '../data/output/official_random_split'"
   ]
  },
  {
   "cell_type": "code",
   "execution_count": 6,
   "metadata": {},
   "outputs": [],
   "source": [
    "for file in os.listdir(data_output_off_ra):\n",
    "    df = pd.read_csv(os.path.join(data_output_off_ra, file))"
   ]
  },
  {
   "cell_type": "code",
   "execution_count": 9,
   "metadata": {},
   "outputs": [
    {
     "name": "stdout",
     "output_type": "stream",
     "text": [
      "Performance Metrics for SVM Model\n",
      "+---+--------------------------+--------------------------+--------------------+-------------------+\n",
      "|   | Gamma in kernel function | Regularization parameter |      accuracy      |     f1 score      |\n",
      "+---+--------------------------+--------------------------+--------------------+-------------------+\n",
      "| 0 |           0.5            |           0.5            | 0.9383561643835616 | 0.943217665615142 |\n",
      "+---+--------------------------+--------------------------+--------------------+-------------------+\n"
     ]
    }
   ],
   "source": [
    "table_str = tabulate(df, headers='keys', tablefmt='pretty')\n",
    "\n",
    "# 指定表格的標題\n",
    "table_title = \"Performance Metrics for SVM Model\"\n",
    "\n",
    "# 合併標題和表格成一個字符串\n",
    "complete_table_str = f\"{table_title}\\n{table_str}\"\n",
    "\n",
    "# 印出完整表格\n",
    "print(complete_table_str)"
   ]
  }
 ],
 "metadata": {
  "kernelspec": {
   "display_name": "Python 3",
   "language": "python",
   "name": "python3"
  },
  "language_info": {
   "codemirror_mode": {
    "name": "ipython",
    "version": 3
   },
   "file_extension": ".py",
   "mimetype": "text/x-python",
   "name": "python",
   "nbconvert_exporter": "python",
   "pygments_lexer": "ipython3",
   "version": "3.11.5"
  }
 },
 "nbformat": 4,
 "nbformat_minor": 2
}
