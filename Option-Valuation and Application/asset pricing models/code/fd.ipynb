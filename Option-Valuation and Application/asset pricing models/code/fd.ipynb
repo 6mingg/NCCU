{
 "cells": [
  {
   "cell_type": "code",
   "execution_count": 37,
   "metadata": {},
   "outputs": [],
   "source": [
    "import numpy as np\n",
    "import scipy.interpolate as spi\n",
    "import scipy.sparse as sp\n",
    "import scipy.linalg as sla"
   ]
  },
  {
   "cell_type": "code",
   "execution_count": 38,
   "metadata": {},
   "outputs": [],
   "source": [
    "def ex(S, K, r, q, sigma, T, Smin, Smax, m, n, type):\n",
    "    omega = 1 if type == 'Call' else -1\n",
    "    dS = (Smax-Smin)/m\n",
    "    dt = T/n\n",
    "    Svec = np.linspace(Smin, Smax, m+1)\n",
    "    Tvec = np.linspace(0, T, n+1)\n",
    "    grid = np.zeros(shape=(m+1, n+1))\n",
    "\n",
    "    # terminal\n",
    "    grid[:, -1] = np.maximum(omega*(Svec - K), 0)\n",
    "\n",
    "    # boundary\n",
    "    tau = Tvec[-1] - Tvec;     \n",
    "    DFq = np.exp(q * tau)\n",
    "    DFr = np.exp(r * tau)\n",
    "    # american option boundary condition should differ from Euro style\n",
    "    grid[0,  :] = np.maximum(omega*(Svec[0]  - K), 0)\n",
    "    grid[-1, :] = np.maximum(omega*(Svec[-1] - K), 0) \n",
    "\n",
    "    # set coefficient\n",
    "    drift = (r-q) * Svec[1:-1]/dS\n",
    "    diffusion_square = (sigma*Svec[1:-1]/dS)**2\n",
    "\n",
    "    l = 0.5*(diffusion_square - drift)\n",
    "    c = -diffusion_square - r\n",
    "    u = 0.5*(diffusion_square + drift)\n",
    "\n",
    "    # set matrix (expl)\n",
    "    A = sp.diags([l[1:], c, u[:-1]], [-1, 0, 1],  format='csc')\n",
    "    I = sp.eye(m-1)\n",
    "    M = I + dt*A\n",
    "\n",
    "    # solve (expl)\n",
    "    for j in reversed(np.arange(n)):\n",
    "        U = M.dot(grid[1:-1, j+1])\n",
    "        # print(U)\n",
    "        U[0] += l[0]*dt*grid[0, j+1] \n",
    "        U[-1] += u[-1]*dt*grid[-1, j+1] \n",
    "        grid[1:-1, j] = U\n",
    "\n",
    "    # interpolate\n",
    "    tck = spi.splrep( Svec, grid[:,0], k=3 )\n",
    "    res = spi.splev( S, tck )\n",
    "    return res"
   ]
  },
  {
   "cell_type": "code",
   "execution_count": 39,
   "metadata": {},
   "outputs": [],
   "source": [
    "def im(S, K, r, q, sigma, T, Smin, Smax, m, n, type):\n",
    "    omega = 1 if type == 'Call' else -1\n",
    "    dS = (Smax-Smin)/m\n",
    "    dt = T/n\n",
    "    Svec = np.linspace(Smin, Smax, m+1)\n",
    "    Tvec = np.linspace(0, T, n+1)\n",
    "    grid = np.zeros(shape=(m+1, n+1))\n",
    "    # terminal\n",
    "    grid[:, -1] = np.maximum(omega*(Svec - K), 0)\n",
    "    # boundary\n",
    "    tau = Tvec[-1] - Tvec;     \n",
    "    DFq = np.exp(q * tau)\n",
    "    DFr = np.exp(r * tau)\n",
    "    # american option boundary condition should differ from Euro style\n",
    "    grid[0,  :] = np.maximum(omega*(Svec[0]  - K), 0)\n",
    "    grid[-1, :] = np.maximum(omega*(Svec[-1] - K), 0) \n",
    "    # set coefficient\n",
    "    drift = (r-q) * Svec[1:-1]/dS\n",
    "    diffusion_square = (sigma*Svec[1:-1]/dS)**2\n",
    "    l = 0.5*(diffusion_square - drift)\n",
    "    c = -diffusion_square - r\n",
    "    u = 0.5*(diffusion_square + drift)\n",
    "    # set matrix (imp)\n",
    "    A = sp.diags([l[1:], c, u[:-1]], [-1, 0, 1],  format='csc')\n",
    "    I = sp.eye(m-1)\n",
    "    M = I - dt * A\n",
    "    # solve (imp)\n",
    "    _, M_lower, M_upper = sla.lu(M.toarray())\n",
    "    for j in reversed(np.arange(n)):      \n",
    "        U = grid[1:-1, j+1].copy()\n",
    "        U[0] += l[0]*dt*grid[0, j] \n",
    "        U[-1] += u[-1]*dt*grid[-1, j] \n",
    "        Ux = sla.solve_triangular( M_lower, U, lower=True )\n",
    "        grid[1:-1, j] = sla.solve_triangular( M_upper, Ux, lower=False )\n",
    "    # interpolate\n",
    "    tck = spi.splrep( Svec, grid[:,0], k=3 )\n",
    "    res = spi.splev( S, tck )\n",
    "    return res"
   ]
  },
  {
   "cell_type": "code",
   "execution_count": 40,
   "metadata": {},
   "outputs": [],
   "source": [
    "S = 40\n",
    "K = 40\n",
    "r = 0.01\n",
    "q = 0.005\n",
    "sigma = 0.2\n",
    "T = 1\n",
    "Smin = 2\n",
    "Smax = 80\n",
    "m = 500 # Ns (number of partitions for the stock price)\n",
    "n = 500 # Nt (number of partitions for the time to maturity).\n"
   ]
  },
  {
   "cell_type": "code",
   "execution_count": 41,
   "metadata": {},
   "outputs": [
    {
     "name": "stdout",
     "output_type": "stream",
     "text": [
      "implicit finite difference methods for Put : 3.063341212310613\n"
     ]
    }
   ],
   "source": [
    "type = 'Put'\n",
    "print(f'implicit finite difference methods for {type} : {im(S, K, r, q, sigma, T, Smin, Smax, m, n, type)}')"
   ]
  },
  {
   "cell_type": "code",
   "execution_count": 42,
   "metadata": {},
   "outputs": [
    {
     "name": "stdout",
     "output_type": "stream",
     "text": [
      "implicit finite difference methods for Call : 3.261844075743102\n"
     ]
    }
   ],
   "source": [
    "type = 'Call'\n",
    "print(f'implicit finite difference methods for {type} : {im(S, K, r, q, sigma, T, Smin, Smax, m, n, type)}')"
   ]
  }
 ],
 "metadata": {
  "kernelspec": {
   "display_name": "Python 3",
   "language": "python",
   "name": "python3"
  },
  "language_info": {
   "codemirror_mode": {
    "name": "ipython",
    "version": 3
   },
   "file_extension": ".py",
   "mimetype": "text/x-python",
   "name": "python",
   "nbconvert_exporter": "python",
   "pygments_lexer": "ipython3",
   "version": "3.11.5"
  }
 },
 "nbformat": 4,
 "nbformat_minor": 2
}
