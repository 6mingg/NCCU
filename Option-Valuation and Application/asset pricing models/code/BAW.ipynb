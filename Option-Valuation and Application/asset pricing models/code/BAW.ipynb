{
 "cells": [
  {
   "cell_type": "code",
   "execution_count": 1,
   "metadata": {},
   "outputs": [],
   "source": [
    "import numpy as np\n",
    "from scipy.stats import norm"
   ]
  },
  {
   "cell_type": "markdown",
   "metadata": {},
   "source": [
    "# function"
   ]
  },
  {
   "cell_type": "code",
   "execution_count": 2,
   "metadata": {},
   "outputs": [],
   "source": [
    "ITERATION_MAX_ERROR = 0.00001\n",
    "\n",
    "def priceEuropeanOption(option_type_flag, S, X, T, r, b, v):\n",
    "    '''\n",
    "    Black-Scholes\n",
    "    '''\n",
    "\n",
    "    d1 = (np.log(S / X) + (b + v**2 / 2) * T) / (v * (T)**0.5)\n",
    "    d2 = d1 - v * (T)**0.5\n",
    "\n",
    "    if option_type_flag == 'Call':\n",
    "        bsp = S * np.exp((b - r) * T) * norm.cdf(d1) - X * np.exp(-r * T) * norm.cdf(d2)\n",
    "    else:\n",
    "        bsp = X * np.exp(-r * T) * norm.cdf(-d2) - S * np.exp((b - r) * T) * norm.cdf(-d1)\n",
    "        \n",
    "    return bsp\n",
    "\n",
    "def priceAmericanOption(option_type_flag, S, X, T, r, b, v):\n",
    "    '''\n",
    "    Barone-Adesi-Whaley\n",
    "    '''\n",
    "    \n",
    "    if option_type_flag == 'Call':\n",
    "        return approximateAmericanCall(S, X, T, r, b, v)\n",
    "    elif option_type_flag == 'Put':\n",
    "        return approximateAmericanPut(S, X, T, r, b, v)\n",
    "    \n",
    "def approximateAmericanCall(S, X, T, r, b, v):\n",
    "    '''\n",
    "    Barone-Adesi And Whaley\n",
    "    '''\n",
    "\n",
    "    if b >= r:\n",
    "        return priceEuropeanOption('Call', S, X, T, r, b, v)\n",
    "    else:\n",
    "        Sk = Kc(X, T, r, b, v)\n",
    "        N = 2 * b / v**2                                           \n",
    "        k = 2 * r / (v**2 * (1 - np.exp(-1 * r * T)))\n",
    "        d1 = (np.log(Sk / X) + (b + (v**2) / 2) * T) / (v * (T**0.5))\n",
    "        Q2 = (-1 * (N - 1) + ((N - 1)**2 + 4 * k))**0.5 / 2\n",
    "        a2 = (Sk / Q2) * (1 - np.exp((b - r) * T) * norm.cdf(d1))\n",
    "        if S < Sk:\n",
    "            return priceEuropeanOption('Call', S, X, T, r, b, v) + a2 * (S / Sk)**Q2\n",
    "        else:\n",
    "            return S - X\n",
    "def approximateAmericanPut(S, X, T, r, b, v):\n",
    "    '''\n",
    "    Barone-Adesi-Whaley\n",
    "    '''\n",
    "\n",
    "    Sk = Kp(X, T, r, b, v)\n",
    "    N = 2 * b / v**2\n",
    "    k = 2 * r / (v**2 * (1 - np.exp(-1 * r * T)))\n",
    "    d1 = (np.log(Sk / X) + (b + (v**2) / 2) * T) / (v * (T)**0.5)\n",
    "    Q1 = (-1 * (N - 1) - (((N - 1)**2 + 4 * k))**0.5) / 2\n",
    "    a1 = -1 * (Sk / Q1) * (1 - np.exp((b - r) * T) * norm.cdf(-1 * d1))\n",
    "\n",
    "    if S > Sk:\n",
    "        return priceEuropeanOption('Put', S, X, T, r, b, v) + a1 * (S / Sk)**Q1\n",
    "    else:\n",
    "        return X - S\n",
    "    \n",
    "def Kc(X, T, r, b, v):\n",
    "\n",
    "    N = 2 * b / v**2\n",
    "    m = 2 * r / v**2\n",
    "    q2u = (-1 * (N - 1) + ((N - 1)**2 + 4 * m)**0.5) / 2\n",
    "    su = X / (1 - 1 / q2u)\n",
    "    h2 = -1 * (b * T + 2 * v * (T)**0.5) * X / (su - X)\n",
    "    Si = X + (su - X) * (1 - np.exp(h2))\n",
    "\n",
    "    k = 2 * r / (v**2 * (1 - np.exp(-1 * r * T)))\n",
    "    d1 = (np.log(Si / X) + (b + v**2 / 2) * T) / (v * (T)**0.5)\n",
    "    Q2 = (-1 * (N - 1) + ((N - 1)**2 + 4 * k)**0.5) / 2\n",
    "    LHS = Si - X\n",
    "    RHS = priceEuropeanOption('Call', Si, X, T, r, b, v) + (1 - np.exp((b - r) * T) * norm.cdf(d1)) * Si / Q2\n",
    "    bi = np.exp((b - r) * T) * norm.cdf(d1) * (1 - 1 / Q2) + (1 - np.exp((b - r) * T) * norm.pdf(d1) / (v * (T)**0.5)) / Q2\n",
    "\n",
    "    E = ITERATION_MAX_ERROR\n",
    "    \n",
    "    while np.abs(LHS - RHS) / X > E:\n",
    "        Si = (X + RHS - bi * Si) / (1 - bi)\n",
    "        d1 = (np.log(Si / X) + (b + v**2 / 2) * T) / (v * (T)**0.5)\n",
    "        LHS = Si - X\n",
    "        RHS = priceEuropeanOption('Call', Si, X, T, r, b, v) + (1 - np.exp((b - r) * T) * norm.cdf(d1)) * Si / Q2\n",
    "        bi = np.exp((b - r) * T) * norm.cdf(d1) * (1 - 1 / Q2) + (1 - np.exp((b - r) * T) * norm.cdf(d1) / (v * (T)**0.5)) / Q2\n",
    "    \n",
    "    return Si\n",
    "def Kp(X, T, r, b, v):\n",
    "\n",
    "    N = 2 * b / v**2\n",
    "    m = 2 * r / v**2\n",
    "    q1u = (-1 * (N - 1) - ((N - 1)**2 + 4 * m)**0.5) / 2\n",
    "    su = X / (1 - 1 / q1u)\n",
    "    h1 = (b * T - 2 * v * (T)**0.5) * X / (X - su)\n",
    "    Si = su + (X - su) * np.exp(h1)\n",
    "\n",
    "    k = 2 * r / (v**2 * (1 - np.exp(-1 * r * T)))\n",
    "    d1 = (np.log(Si / X) + (b + v**2 / 2) * T) / (v * (T)**0.5)\n",
    "    Q1 = (-1 * (N - 1) - ((N - 1)**2 + 4 * k)**0.5) / 2\n",
    "    LHS = X - Si\n",
    "    RHS = priceEuropeanOption( 'Put', Si, X, T, r, b, v) - (1 - np.exp((b - r) * T) * norm.cdf(-1 * d1)) * Si / Q1\n",
    "    bi = -1 * np.exp((b - r) * T) * norm.cdf(-1 * d1) * (1 - 1 / Q1) - (1 + np.exp((b - r) * T) * norm.pdf(-d1) / (v * (T)**0.5)) / Q1\n",
    "    \n",
    "    E = ITERATION_MAX_ERROR\n",
    "    \n",
    "    while np.abs(LHS - RHS) / X > E:\n",
    "        Si = (X - RHS + bi * Si) / (1 + bi)\n",
    "        d1 = (np.log(Si / X) + (b + v**2 / 2) * T) / (v * (T)**0.5)\n",
    "        LHS = X - Si\n",
    "        RHS = priceEuropeanOption('Put', Si, X, T, r, b, v) - (1 - np.exp((b - r) * T) * norm.cdf(-1 * d1)) * Si / Q1\n",
    "        bi = -np.exp((b - r) * T) * norm.cdf(-1 * d1) * (1 - 1 / Q1) - (1 + np.exp((b - r) * T) * norm.cdf(-1 * d1) / (v * (T)**0.5)) / Q1\n",
    "        \n",
    "    return Si"
   ]
  },
  {
   "cell_type": "markdown",
   "metadata": {},
   "source": [
    "# parameters"
   ]
  },
  {
   "cell_type": "code",
   "execution_count": 3,
   "metadata": {},
   "outputs": [],
   "source": [
    "S = 40\n",
    "X_call = 40  # 選擇權履約價格\n",
    "X_put = 40  # 選擇權履約價格\n",
    "t = 1  # 選擇權到期時間（年）\n",
    "r = 0.06  # 無風險利率\n",
    "b = 0.02  # 常數（持有成本 b=r-q）\n",
    "sigma = 0.2  # 波動率\n"
   ]
  },
  {
   "cell_type": "code",
   "execution_count": 4,
   "metadata": {},
   "outputs": [
    {
     "name": "stdout",
     "output_type": "stream",
     "text": [
      "call price : 3.4339696034703824, put_price : 2.781123533637977\n"
     ]
    }
   ],
   "source": [
    "price_c = priceAmericanOption('Call', S, X_call, t, r, b, sigma)\n",
    "price_p = priceAmericanOption('Put', S, X_put, t, r, b, sigma)\n",
    "print(f'call price : {price_c}, put_price : {price_p}')"
   ]
  }
 ],
 "metadata": {
  "kernelspec": {
   "display_name": "Python 3",
   "language": "python",
   "name": "python3"
  },
  "language_info": {
   "codemirror_mode": {
    "name": "ipython",
    "version": 3
   },
   "file_extension": ".py",
   "mimetype": "text/x-python",
   "name": "python",
   "nbconvert_exporter": "python",
   "pygments_lexer": "ipython3",
   "version": "3.11.5"
  }
 },
 "nbformat": 4,
 "nbformat_minor": 2
}
