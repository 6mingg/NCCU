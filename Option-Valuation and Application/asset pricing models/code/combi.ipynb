{
 "cells": [
  {
   "cell_type": "code",
   "execution_count": 20,
   "metadata": {},
   "outputs": [],
   "source": [
    "from IPython.display import  Latex\n",
    "from math import exp, sqrt, factorial"
   ]
  },
  {
   "cell_type": "code",
   "execution_count": 21,
   "metadata": {},
   "outputs": [],
   "source": [
    "s0 = 40\n",
    "K = 40\n",
    "T = 1\n",
    "r = 0.06\n",
    "q = 0.02\n",
    "sigma = 0.2\n",
    "n = 50\n",
    "option = 'put'\n",
    "t = T/n"
   ]
  },
  {
   "cell_type": "code",
   "execution_count": 22,
   "metadata": {},
   "outputs": [],
   "source": [
    "u = exp(sigma * sqrt(t))\n",
    "d = exp(-sigma * sqrt(t))\n",
    "p = (exp((r-q) * t)-d)/(u-d)"
   ]
  },
  {
   "cell_type": "code",
   "execution_count": 23,
   "metadata": {},
   "outputs": [],
   "source": [
    "def C(i, j):\n",
    "    result = factorial(i) // (factorial(j) * factorial(i - j))\n",
    "    return result"
   ]
  },
  {
   "cell_type": "markdown",
   "metadata": {},
   "source": [
    "$v_c = e^{-rT}\\Sigma^n_{j=0}C^n_jp^{n-j}(1-p)^jmax(S_0u^{n-j}d^j-K, 0)$"
   ]
  },
  {
   "cell_type": "code",
   "execution_count": 24,
   "metadata": {},
   "outputs": [],
   "source": [
    "sigma = 0\n",
    "for j in range(n+1):\n",
    "    temp_part = C(n, j) * p**(n-j) * (1-p)**(j) * max(s0 * u**(n-j) * d**(j) - K, 0)\n",
    "    sigma += temp_part\n",
    "call = exp(-r*T) * sigma\n"
   ]
  },
  {
   "cell_type": "markdown",
   "metadata": {},
   "source": [
    "$v_p = e^{-rT}\\Sigma^n_{j=0}C^n_jp^{n-j}(1-p)^jmax(K-S_0u^{n-j}d^j, 0)$"
   ]
  },
  {
   "cell_type": "code",
   "execution_count": 25,
   "metadata": {},
   "outputs": [],
   "source": [
    "sigma = 0\n",
    "for j in range(n+1):\n",
    "    temp_part = C(n, j) * p**(n-j) * (1-p)**(j) * max(K - s0 * u**(n-j) * d**(j) , 0)\n",
    "    sigma += temp_part\n",
    "put = exp(-r*T) * sigma"
   ]
  },
  {
   "cell_type": "code",
   "execution_count": 26,
   "metadata": {},
   "outputs": [
    {
     "name": "stdout",
     "output_type": "stream",
     "text": [
      "call = 3.875848325011272, put = 2.3384827361110903\n"
     ]
    }
   ],
   "source": [
    "print(f'call = {call}, put = {put}')"
   ]
  }
 ],
 "metadata": {
  "kernelspec": {
   "display_name": "Python 3",
   "language": "python",
   "name": "python3"
  },
  "language_info": {
   "codemirror_mode": {
    "name": "ipython",
    "version": 3
   },
   "file_extension": ".py",
   "mimetype": "text/x-python",
   "name": "python",
   "nbconvert_exporter": "python",
   "pygments_lexer": "ipython3",
   "version": "3.11.5"
  }
 },
 "nbformat": 4,
 "nbformat_minor": 2
}
